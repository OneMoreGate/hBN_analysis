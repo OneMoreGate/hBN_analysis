{
 "cells": [
  {
   "cell_type": "code",
   "execution_count": 68,
   "metadata": {},
   "outputs": [],
   "source": [
    "import matplotlib.pyplot as plt \n",
    "import matplotlib.ticker as ticker\n",
    "import pandas as pd \n",
    "import numpy as np \n",
    "import os\n",
    "import shutil"
   ]
  },
  {
   "cell_type": "code",
   "execution_count": 69,
   "metadata": {},
   "outputs": [],
   "source": [
    "# чтение всех вложенных директорий и разделение на файлы и папки\n",
    "data_path = 'hBN_1'\n",
    "dir_list = []\n",
    "file_list = []\n",
    "for i in os.listdir(data_path):\n",
    "    if os.path.isdir(f'{data_path}/{i}'):\n",
    "        dir_list.append(f'{i}')\n",
    "    else:\n",
    "        file_list.append(f'{i}')"
   ]
  },
  {
   "cell_type": "code",
   "execution_count": 70,
   "metadata": {},
   "outputs": [],
   "source": [
    "# составляем список header файлов по имющимся папкам\n",
    "header_list = []\n",
    "for i in dir_list:\n",
    "    if f'{i}.header' in file_list:\n",
    "        header_list.append(f'{i}.header')"
   ]
  },
  {
   "cell_type": "code",
   "execution_count": 71,
   "metadata": {},
   "outputs": [],
   "source": [
    "# считываем данные об измерениях из header файлов\n",
    "splite_line = '______________________________________________________'\n",
    "all_contacts_info = {}\n",
    "for i in header_list:\n",
    "    with open(f'{data_path}\\{i}') as f:\n",
    "        claen_header = []\n",
    "        for k in f.readlines()[:-2]:\n",
    "            claen_header.append(k.replace('\\n', ''))\n",
    "        # основная информация об измерениях на одном контакте\n",
    "        sample, contact = claen_header[3].split()\n",
    "        main_info = {'sample': sample, 'contact': contact}\n",
    "        # информация о всех отдельных измерениях на одном контакте\n",
    "        measurments_number = claen_header.count(splite_line)\n",
    "        single_contact_info = {}\n",
    "        for j in range(len(claen_header)):\n",
    "            if claen_header[j] == splite_line:\n",
    "                number, *m_type = claen_header[j + 3].split()\n",
    "                file_path = claen_header[j + 8].split()[-1]\n",
    "                single_contact_info[int(number)] = {'type': ' '.join(m_type), 'file_path': file_path}\n",
    "            else:\n",
    "                continue\n",
    "    all_contacts_info[i.replace('.header', '')] =  single_contact_info"
   ]
  },
  {
   "cell_type": "code",
   "execution_count": 72,
   "metadata": {},
   "outputs": [],
   "source": [
    "def graph_DC_IV(data_path: str, save_path: str, name: str):\n",
    "    df = pd.read_csv(data_path, delimiter='   ', skiprows=16, engine='python', header=None, encoding='ISO-8859-1').astype(np.float32)\n",
    "    with open(data_path) as f:\n",
    "        lines = f.readlines()\n",
    "    fig, ax = plt.subplots(ncols=1, nrows=1, figsize = [10,5])\n",
    "    ax.plot(df[0], np.abs(df[1]))\n",
    "    ax.set_yscale('log')\n",
    "    ax.set_xlim([-3.2,5])\n",
    "    ax.set_ylim([10**(-12), 10**(-2)])\n",
    "    #ax.set_title(f'{i} measurment with {lines[10].split()[1]} positive complines')\n",
    "    ax.grid(which='major', linewidth = 0.6)\n",
    "    ax.grid(which='minor', linewidth = 0.2)\n",
    "    ax.xaxis.set_major_locator(ticker.MultipleLocator(0.5))\n",
    "    ax.xaxis.set_minor_locator(ticker.MultipleLocator(0.1))\n",
    "    plt.savefig(save_path + f'\\\\{name}.png', dpi = 300, bbox_inches = 'tight')\n",
    "    plt.clf()\n",
    "    plt.close(fig)"
   ]
  },
  {
   "cell_type": "code",
   "execution_count": 73,
   "metadata": {},
   "outputs": [],
   "source": [
    "def create_dir(path):\n",
    "    if os.path.isdir(path):\n",
    "        shutil.rmtree(path, ignore_errors=True)\n",
    "        os.mkdir(path)\n",
    "    else:\n",
    "        os.mkdir(path)"
   ]
  },
  {
   "cell_type": "code",
   "execution_count": 74,
   "metadata": {},
   "outputs": [],
   "source": [
    "# рисуем графики для всех файлов во всех папках\n",
    "# создаем общую папку для графиков\n",
    "glodal_graph_path = '_'.join([data_path, 'graph'])\n",
    "create_dir(glodal_graph_path)\n",
    "\n",
    "# создаем папки с графиками для каждого контакта и рисуем графики\n",
    "for i in range(len(dir_list)):\n",
    "    single_contact_path = '\\\\'.join([data_path, dir_list[i]])\n",
    "    local_graph_path = '\\\\'.join([glodal_graph_path, dir_list[i]])\n",
    "    create_dir(local_graph_path)\n",
    "    for j in os.listdir(single_contact_path):\n",
    "        data_number = int(j.split('.')[0])\n",
    "        local_data_path = f'{data_path}' + all_contacts_info[dir_list[i]][data_number]['file_path']\n",
    "        match all_contacts_info[dir_list[i]][data_number]['type']:\n",
    "            case 'DC IV':\n",
    "                graph_DC_IV(local_data_path, local_graph_path, str(data_number))"
   ]
  }
 ],
 "metadata": {
  "kernelspec": {
   "display_name": "Python 3",
   "language": "python",
   "name": "python3"
  },
  "language_info": {
   "codemirror_mode": {
    "name": "ipython",
    "version": 3
   },
   "file_extension": ".py",
   "mimetype": "text/x-python",
   "name": "python",
   "nbconvert_exporter": "python",
   "pygments_lexer": "ipython3",
   "version": "3.11.2"
  }
 },
 "nbformat": 4,
 "nbformat_minor": 2
}
